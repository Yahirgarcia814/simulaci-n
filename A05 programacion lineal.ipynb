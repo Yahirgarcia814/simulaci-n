{
 "cells": [
  {
   "cell_type": "markdown",
   "id": "b3fd9e57-07d6-4028-bc4a-371b6bc79ec6",
   "metadata": {},
   "source": [
    "# actividad 05 programacion lineal"
   ]
  },
  {
   "cell_type": "markdown",
   "id": "4ca29b6e-b128-4ab7-809f-eea6d90de2cd",
   "metadata": {},
   "source": [
    "## ejercicio 1 (plantea los problemas)"
   ]
  },
  {
   "cell_type": "markdown",
   "id": "daed29ed-74e0-478d-b409-09961901b853",
   "metadata": {},
   "source": [
    "## Se quiere producir comida para gatos de la manera más barata, no obstante se debe también asegurar que se cumplan los datos requeridos de analisis nutricional. Por lo que se quiere variar la cantidad de cada ingrediente para cumplir con los estandares nutricionales. Los requisitos que se tienen es que en 100 gramos, se deben tener por lo menos 9 gramos de proteína y  7 gramos de grasa. Así mismo, no se debe tener más de 2.5 gramos de fibra y 0.5 gramos de sal."
   ]
  },
  {
   "cell_type": "markdown",
   "id": "3fe4fc6a-43cf-48f5-9934-f22d52d262b2",
   "metadata": {},
   "source": [
    " debemos tener variables para cada ingrediente de la receta \n",
    "* pollo = $$ x_{pollo} $$\n",
    "* carne = $$ x_{carne} $$\n",
    "* cordero = $$ x_{cordero} $$\n",
    "* arros = $$ x_{arros} $$\n",
    "* trigo = $$ x_{trigo} $$\n",
    "* gel = $$ x_{gel} $$\n",
    "\n"
   ]
  },
  {
   "cell_type": "markdown",
   "id": "d5b6a4d9-3cd7-451d-a9ce-7d2bd2905ce2",
   "metadata": {},
   "source": [
    "el problema nos decie que quiere minimizar el costo de cada producto"
   ]
  },
  {
   "cell_type": "markdown",
   "id": "b101a338-8e12-4d42-a8e5-63248bdb83f9",
   "metadata": {},
   "source": [
    "$$ 0.12x_{pollo} + 0.009x_{carne} + 0.010x_{cordero} + 0.003x_{arros} + 0.005x_{trigo} + 0.002x_{gel} $$"
   ]
  },
  {
   "cell_type": "markdown",
   "id": "56b06b25-4e1c-4a74-b027-ac225f2a1d0d",
   "metadata": {},
   "source": [
    "debemos poner restricciones sobre cada elemento"
   ]
  },
  {
   "cell_type": "markdown",
   "id": "1cb68e79-ca7f-4783-a136-81add46a1f91",
   "metadata": {},
   "source": [
    "restriccion_proteina = $$ 0.10x_{pollo} + 00.20x_{carne} + 0.15x_{cordero} + 0.04x_{trigo} \\geq 9 $$\n",
    "\n",
    "restriccion_grasa = $$ 0.08x_{pollo} + 0.10x_{carne} + 0.15x_{cordero} + 0.01x_{arroz} + 0.01x_{trigo} \\geq 7 $$\n",
    "\n",
    "restriccion_fibra = $$ 0.001x_{pollo} + 0.005x_{carne} + 0.005x_{cordero} + 0.10x_{arroz} + 0.15x_{trigo} \\leq 2.5 $$\n",
    "\n",
    "restriccion_sal = $$ 0.002x_{pollo} + 0.005x_{carne} + 0.007x_{cordero} + 0.002x_{arroz} + 0.008x_{trigo} \\leq 0.5 $$\n",
    "\n"
   ]
  },
  {
   "cell_type": "markdown",
   "id": "ed5ff280-fda5-44d7-abd3-0e738fefba42",
   "metadata": {},
   "source": [
    "## ejercicio 2"
   ]
  },
  {
   "cell_type": "markdown",
   "id": "4d27371d-0f66-4f5e-82a5-feb23e790a25",
   "metadata": {},
   "source": [
    "La Comisión Federal de Electricidad (CFE) dispone de cuatro plantas de generación para satisfacer la demanda diaria eléctrica en cuatro ciudades, Guadalajara, León y Morelia. Las plantas 1, 2 y 3 pueden satisfacer 75, 50 y 60 millones de kW al día respectivamente. Las necesidades de las ciudades de Guadalajara, León y Morelia son de 60, 45 y 60 millones de Kw al día respectivamente."
   ]
  },
  {
   "cell_type": "markdown",
   "id": "237c5e7b-faec-41cc-849f-e9f53aa73537",
   "metadata": {},
   "source": [
    "variables"
   ]
  },
  {
   "cell_type": "markdown",
   "id": "52732fe0-5755-4c1d-8fd0-3dc943831d1e",
   "metadata": {},
   "source": [
    "planta1_gdl = $$ x1_{gdl} $$\n",
    "planta1_leon = $$ x1_{leon} $$\n",
    "planta1_mor = $$ x1_{mor} $$\n",
    "planta2_gdl = $$ x2_{gdl} $$\n",
    "planta2_leon = $$ x2_{leon} $$\n",
    "planta2_mor = $$ x2_{mor} $$\n",
    "planta3_gdl = $$ x3_{gdl} $$\n",
    "planta3_leon = $$ x3_{leon} $$\n",
    "planta3_mor = $$ x3_{mor} $$"
   ]
  },
  {
   "cell_type": "markdown",
   "id": "9da41a5d-7927-4860-af39-367c574ba13a",
   "metadata": {},
   "source": [
    "el problema nos decie que quiere minimizar "
   ]
  },
  {
   "cell_type": "markdown",
   "id": "5b960262-0e50-4bcb-b24e-c02a5b4042ce",
   "metadata": {},
   "source": [
    "$$ costos = 5x1_{gdl} + 2x1_{gdl}+ 7x1_{gdl} + 3x2_{gdl} + 4x2_{leon} + 5x2_{mor} + 5x3_{gdl} + 2x3_{leon} + 3x3_{mor} $$"
   ]
  },
  {
   "cell_type": "code",
   "execution_count": null,
   "id": "d3fffeb2-0a3c-4bba-a8cf-4cb11b8f840c",
   "metadata": {},
   "outputs": [],
   "source": []
  }
 ],
 "metadata": {
  "kernelspec": {
   "display_name": "Python 3 (ipykernel)",
   "language": "python",
   "name": "python3"
  },
  "language_info": {
   "codemirror_mode": {
    "name": "ipython",
    "version": 3
   },
   "file_extension": ".py",
   "mimetype": "text/x-python",
   "name": "python",
   "nbconvert_exporter": "python",
   "pygments_lexer": "ipython3",
   "version": "3.12.4"
  }
 },
 "nbformat": 4,
 "nbformat_minor": 5
}
