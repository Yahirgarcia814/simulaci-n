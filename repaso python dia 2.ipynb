{
 "cells": [
  {
   "cell_type": "markdown",
   "id": "d2d18c9e-395d-4ecd-b6fb-44605ad13cb7",
   "metadata": {},
   "source": [
    "# tipo de objetos"
   ]
  },
  {
   "cell_type": "code",
   "execution_count": 1,
   "id": "ff242245-b6ce-4325-baa7-0879bdb7ff91",
   "metadata": {},
   "outputs": [],
   "source": [
    "no_intentos = 5\n",
    "tasa_de_exito = 0.67\n",
    "apellido = \"garcia\""
   ]
  },
  {
   "cell_type": "code",
   "execution_count": 2,
   "id": "bf5c73bd-706a-4390-983b-f9dca4f30716",
   "metadata": {},
   "outputs": [
    {
     "data": {
      "text/plain": [
       "int"
      ]
     },
     "execution_count": 2,
     "metadata": {},
     "output_type": "execute_result"
    }
   ],
   "source": [
    "type(no_intentos)"
   ]
  },
  {
   "cell_type": "code",
   "execution_count": 3,
   "id": "1ddcf3cc-2528-44a5-84be-b04d6bec3f74",
   "metadata": {},
   "outputs": [
    {
     "data": {
      "text/plain": [
       "float"
      ]
     },
     "execution_count": 3,
     "metadata": {},
     "output_type": "execute_result"
    }
   ],
   "source": [
    "type(tasa_de_exito)"
   ]
  },
  {
   "cell_type": "code",
   "execution_count": 4,
   "id": "56d7d570-c9e3-4677-891b-ef0354f8087f",
   "metadata": {},
   "outputs": [
    {
     "data": {
      "text/plain": [
       "str"
      ]
     },
     "execution_count": 4,
     "metadata": {},
     "output_type": "execute_result"
    }
   ],
   "source": [
    "type(apellido)"
   ]
  },
  {
   "cell_type": "markdown",
   "id": "572983fb-eac9-4bcf-bbf8-659eb27bfb70",
   "metadata": {},
   "source": [
    "# listas"
   ]
  },
  {
   "cell_type": "code",
   "execution_count": 5,
   "id": "ef9e7aa1-6f86-4803-ab6e-40b070d4f2a2",
   "metadata": {},
   "outputs": [
    {
     "data": {
      "text/plain": [
       "['fraire', 'parra', 'rivas', 'alcaraz', 'minakata', 'galvan']"
      ]
     },
     "execution_count": 5,
     "metadata": {},
     "output_type": "execute_result"
    }
   ],
   "source": [
    "alumnos = [\"fraire\", \"parra\", \"rivas\", \"alcaraz\", \"minakata\", \"galvan\"]\n",
    "type(alumnos)\n",
    "alumnos"
   ]
  },
  {
   "cell_type": "code",
   "execution_count": 6,
   "id": "1445d8d5-f316-4889-b4e0-6fb9ff88fd0a",
   "metadata": {},
   "outputs": [
    {
     "data": {
      "text/plain": [
       "['fraire', 'parra', 'rivas', 'alcaraz', 'minakata', 'galvan', 'jauregi']"
      ]
     },
     "execution_count": 6,
     "metadata": {},
     "output_type": "execute_result"
    }
   ],
   "source": [
    "alumnos.append(\"jauregi\")\n",
    "alumnos"
   ]
  },
  {
   "cell_type": "code",
   "execution_count": 7,
   "id": "fd7f1fde-1bce-4ec8-9ccf-b79ba492427f",
   "metadata": {},
   "outputs": [
    {
     "data": {
      "text/plain": [
       "'fraire'"
      ]
     },
     "execution_count": 7,
     "metadata": {},
     "output_type": "execute_result"
    }
   ],
   "source": [
    "alumnos[0]"
   ]
  },
  {
   "cell_type": "code",
   "execution_count": 8,
   "id": "93945f0e-a10b-429a-b326-7e0be16ccdcd",
   "metadata": {},
   "outputs": [
    {
     "data": {
      "text/plain": [
       "'jauregi'"
      ]
     },
     "execution_count": 8,
     "metadata": {},
     "output_type": "execute_result"
    }
   ],
   "source": [
    "alumnos[6]"
   ]
  },
  {
   "cell_type": "code",
   "execution_count": 9,
   "id": "3c3ae89d-f7b9-4296-91b8-9cf6bc8f8062",
   "metadata": {},
   "outputs": [
    {
     "data": {
      "text/plain": [
       "\u001b[1;31mSignature:\u001b[0m \u001b[0malumnos\u001b[0m\u001b[1;33m.\u001b[0m\u001b[0minsert\u001b[0m\u001b[1;33m(\u001b[0m\u001b[0mindex\u001b[0m\u001b[1;33m,\u001b[0m \u001b[0mobject\u001b[0m\u001b[1;33m,\u001b[0m \u001b[1;33m/\u001b[0m\u001b[1;33m)\u001b[0m\u001b[1;33m\u001b[0m\u001b[1;33m\u001b[0m\u001b[0m\n",
       "\u001b[1;31mDocstring:\u001b[0m Insert object before index.\n",
       "\u001b[1;31mType:\u001b[0m      builtin_function_or_method"
      ]
     },
     "metadata": {},
     "output_type": "display_data"
    }
   ],
   "source": [
    "alumnos.insert?"
   ]
  },
  {
   "cell_type": "code",
   "execution_count": 12,
   "id": "b9ef64e6-d292-482b-ad8c-828bf6e5442e",
   "metadata": {},
   "outputs": [],
   "source": [
    "alumnos.insert(3,\"velazques\")"
   ]
  },
  {
   "cell_type": "code",
   "execution_count": 13,
   "id": "4b137087-09f8-4504-9348-7a6560b32e43",
   "metadata": {},
   "outputs": [
    {
     "data": {
      "text/plain": [
       "['fraire',\n",
       " 'parra',\n",
       " 'rivas',\n",
       " 'velazques',\n",
       " 'alcaraz',\n",
       " 'minakata',\n",
       " 'galvan',\n",
       " 'jauregi']"
      ]
     },
     "execution_count": 13,
     "metadata": {},
     "output_type": "execute_result"
    }
   ],
   "source": [
    "alumnos"
   ]
  },
  {
   "cell_type": "code",
   "execution_count": 15,
   "id": "c327594b-caa1-4ed4-b522-5548140fcc55",
   "metadata": {},
   "outputs": [
    {
     "data": {
      "text/plain": [
       "['fraire', 'parra', 'rivas', 'alcaraz', 'minakata', 'galvan', 'jauregi']"
      ]
     },
     "execution_count": 15,
     "metadata": {},
     "output_type": "execute_result"
    }
   ],
   "source": [
    "alumnos.remove(\"velazques\")\n",
    "alumnos"
   ]
  },
  {
   "cell_type": "code",
   "execution_count": 16,
   "id": "581e8d32-2424-4ca2-a70a-7c74c48e882c",
   "metadata": {},
   "outputs": [
    {
     "data": {
      "text/plain": [
       "'rivas'"
      ]
     },
     "execution_count": 16,
     "metadata": {},
     "output_type": "execute_result"
    }
   ],
   "source": [
    "alumnos.pop(2)"
   ]
  },
  {
   "cell_type": "code",
   "execution_count": 17,
   "id": "963b91ee-9b88-4204-a694-e137a25de65e",
   "metadata": {},
   "outputs": [
    {
     "data": {
      "text/plain": [
       "['fraire', 'parra', 'alcaraz', 'minakata', 'galvan', 'jauregi']"
      ]
     },
     "execution_count": 17,
     "metadata": {},
     "output_type": "execute_result"
    }
   ],
   "source": [
    "alumnos"
   ]
  },
  {
   "cell_type": "code",
   "execution_count": 18,
   "id": "d5fb1b69-4d8f-45bb-8d13-1304482e5b34",
   "metadata": {},
   "outputs": [
    {
     "data": {
      "text/plain": [
       "['morales', True, 3.141696, 8]"
      ]
     },
     "execution_count": 18,
     "metadata": {},
     "output_type": "execute_result"
    }
   ],
   "source": [
    "lista1 = [\"morales\", True, 3.141696, 8]\n",
    "lista1"
   ]
  },
  {
   "cell_type": "code",
   "execution_count": 19,
   "id": "52d53995-79cb-4a4b-abe6-68500a1c2a55",
   "metadata": {},
   "outputs": [
    {
     "data": {
      "text/plain": [
       "['abc', ['morales', True, 3.141696, 8]]"
      ]
     },
     "execution_count": 19,
     "metadata": {},
     "output_type": "execute_result"
    }
   ],
   "source": [
    "lista2 = [\"abc\", lista1]\n",
    "lista2"
   ]
  },
  {
   "cell_type": "code",
   "execution_count": 20,
   "id": "018a00b6-879a-4386-836b-43be41a37b52",
   "metadata": {},
   "outputs": [],
   "source": [
    "lista = [88, 24, 42, 8, 12, 7, 777]"
   ]
  },
  {
   "cell_type": "code",
   "execution_count": 21,
   "id": "bb72aa81-3c67-4e03-97a5-881c8112d2d9",
   "metadata": {},
   "outputs": [
    {
     "data": {
      "text/plain": [
       "88"
      ]
     },
     "execution_count": 21,
     "metadata": {},
     "output_type": "execute_result"
    }
   ],
   "source": [
    "lista[0]"
   ]
  },
  {
   "cell_type": "code",
   "execution_count": 22,
   "id": "de3e9b37-ebde-4ca3-85f9-90000399e8c0",
   "metadata": {},
   "outputs": [
    {
     "data": {
      "text/plain": [
       "42"
      ]
     },
     "execution_count": 22,
     "metadata": {},
     "output_type": "execute_result"
    }
   ],
   "source": [
    "lista[2]"
   ]
  },
  {
   "cell_type": "code",
   "execution_count": 26,
   "id": "5bcbe893-ec21-4e5d-9e1f-0af16e78e0fb",
   "metadata": {},
   "outputs": [
    {
     "name": "stdout",
     "output_type": "stream",
     "text": [
      "88\n",
      "24\n",
      "42\n",
      "8\n",
      "12\n",
      "7\n",
      "777\n"
     ]
    }
   ],
   "source": [
    "i = 0\n",
    "while i < len(lista) :\n",
    "    print(lista[i])\n",
    "    i += 1"
   ]
  },
  {
   "cell_type": "markdown",
   "id": "ca35f867-58c3-478f-9649-0b0605d90c03",
   "metadata": {},
   "source": [
    "## funciones"
   ]
  },
  {
   "cell_type": "code",
   "execution_count": 34,
   "id": "02c33acd-d9cd-4591-9220-1b6fbef59297",
   "metadata": {},
   "outputs": [],
   "source": [
    "def funcion1():\n",
    "    print(\"hola\")\n"
   ]
  },
  {
   "cell_type": "code",
   "execution_count": 37,
   "id": "8fe4f6fa-0a9d-4fca-b473-f67556aa2e58",
   "metadata": {},
   "outputs": [
    {
     "name": "stdout",
     "output_type": "stream",
     "text": [
      "hola\n"
     ]
    }
   ],
   "source": [
    "funcion1()"
   ]
  },
  {
   "cell_type": "code",
   "execution_count": 38,
   "id": "c15639bd-be85-4794-b1cb-0d2bd5a1fde9",
   "metadata": {},
   "outputs": [],
   "source": [
    "def suma(a,b):\n",
    "    resultado = a+b\n",
    "    return resultado"
   ]
  },
  {
   "cell_type": "code",
   "execution_count": 42,
   "id": "05298271-8330-49c3-b3b0-98e050eb853e",
   "metadata": {},
   "outputs": [
    {
     "name": "stdout",
     "output_type": "stream",
     "text": [
      "4\n",
      "3\n",
      "valor por defecto\n"
     ]
    }
   ],
   "source": [
    "def funcion(a, b, c=\"valor por defecto\"):\n",
    "    print(a)\n",
    "    print(b)\n",
    "    print(c)\n",
    "\n",
    "funcion(4,3)"
   ]
  },
  {
   "cell_type": "markdown",
   "id": "d5b3078f-353c-4380-9b8c-67d439466135",
   "metadata": {},
   "source": [
    "# actividad"
   ]
  },
  {
   "cell_type": "markdown",
   "id": "2a842c15-65f6-446f-a04d-2de845f0f995",
   "metadata": {},
   "source": [
    "1. pasar a funcion el codigo de encontrar un numero primo que retorne true si si es primo y false si no.\n",
    "\n",
    "$$ esprimo(a) $$"
   ]
  },
  {
   "cell_type": "markdown",
   "id": "6899d650-9234-4d59-87a1-ad47e019bddc",
   "metadata": {},
   "source": [
    "2. crear una funcion que ingrese un numero a y que se encuentre el numero primo mas cercano.\n",
    "$$ 0<=a<=100 $$"
   ]
  },
  {
   "cell_type": "markdown",
   "id": "4cdba89b-8d28-4bc0-94a4-453b78992bb9",
   "metadata": {},
   "source": [
    "3. pasar a funcion el codigo de encontrar factorial y encontrar factorial de los sigientes numeros:\n",
    "   \n",
    "* 4\n",
    "* 7\n",
    "* 5\n",
    "* 8\n",
    "* 9\n",
    "* 3\n",
    "* \n",
    "no encontrar factoriales de uno en uno\n"
   ]
  },
  {
   "cell_type": "code",
   "execution_count": 63,
   "id": "f326086e-310e-439c-a85e-7f8f512787cd",
   "metadata": {},
   "outputs": [
    {
     "name": "stdout",
     "output_type": "stream",
     "text": [
      "True\n"
     ]
    }
   ],
   "source": [
    "def no_primo(a):\n",
    "    if a >= 2 :\n",
    "        for x in range(2, a):\n",
    "            if a % x == 0:\n",
    "                return False\n",
    "            elif a % x != 0:\n",
    "                return True   \n",
    "print (no_primo(93))"
   ]
  },
  {
   "cell_type": "code",
   "execution_count": null,
   "id": "42eb650a-0a70-4f3f-8639-6f826cae7840",
   "metadata": {},
   "outputs": [],
   "source": []
  }
 ],
 "metadata": {
  "kernelspec": {
   "display_name": "Python 3 (ipykernel)",
   "language": "python",
   "name": "python3"
  },
  "language_info": {
   "codemirror_mode": {
    "name": "ipython",
    "version": 3
   },
   "file_extension": ".py",
   "mimetype": "text/x-python",
   "name": "python",
   "nbconvert_exporter": "python",
   "pygments_lexer": "ipython3",
   "version": "3.12.4"
  }
 },
 "nbformat": 4,
 "nbformat_minor": 5
}
