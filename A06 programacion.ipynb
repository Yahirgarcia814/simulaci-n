{
 "cells": [
  {
   "cell_type": "markdown",
   "id": "7a39b247-ff0e-47b3-8217-658c61797b00",
   "metadata": {},
   "source": [
    "## Programacion lineal"
   ]
  },
  {
   "cell_type": "markdown",
   "id": "f726ceb9-0b29-476e-8e2d-aaffec0b9f91",
   "metadata": {},
   "source": [
    "1.- identifico criterios de optimizacion (min,max, ¿que?)\n",
    "2.- variables de control (¿sobre que tengo control que afecte?)\n",
    "3.-uso paso 2 y 1 para escribir  funcion de costo (combinacion lineal de variables 1 y 2)\n",
    "4.-informacion adicional sobre restricciones\n",
    "5.-"
   ]
  },
  {
   "cell_type": "markdown",
   "id": "ab68d361-f700-42e3-a334-efa60639ab9a",
   "metadata": {},
   "source": [
    "## explicacion "
   ]
  },
  {
   "cell_type": "code",
   "execution_count": 10,
   "id": "7a6f0c68-3cb6-4f4d-8efe-45ed0cfe1214",
   "metadata": {},
   "outputs": [
    {
     "data": {
      "text/plain": [
       "        message: Optimization terminated successfully. (HiGHS Status 7: Optimal)\n",
       "        success: True\n",
       "         status: 0\n",
       "            fun: 76.0\n",
       "              x: [ 4.000e+01  2.600e+02]\n",
       "            nit: 2\n",
       "          lower:  residual: [ 4.000e+01  2.600e+02]\n",
       "                 marginals: [ 0.000e+00  0.000e+00]\n",
       "          upper:  residual: [       inf        inf]\n",
       "                 marginals: [ 0.000e+00  0.000e+00]\n",
       "          eqlin:  residual: []\n",
       "                 marginals: []\n",
       "        ineqlin:  residual: [ 0.000e+00  1.260e+01  0.000e+00]\n",
       "                 marginals: [-1.600e+00 -0.000e+00 -1.200e+00]\n",
       " mip_node_count: 0\n",
       " mip_dual_bound: 0.0\n",
       "        mip_gap: 0.0"
      ]
     },
     "execution_count": 10,
     "metadata": {},
     "output_type": "execute_result"
    }
   ],
   "source": [
    "import numpy as np\n",
    "\n",
    "c = np.array([0.6, 0.2])\n",
    "\n",
    "AuB = np.array([\n",
    "    [-0.30, -0.05],\n",
    "    [-0.01, -0.07],\n",
    "    [-0.10, -0.10]\n",
    "])\n",
    "\n",
    "BuP= np.array ([-25, -6, -30])\n",
    "\n",
    "import scipy.optimize as opt\n",
    "\n",
    "sol = opt.linprog(c, AuB, BuP) #aqui podemos ver todas las respuestas \n",
    "\n",
    "sol"
   ]
  },
  {
   "cell_type": "code",
   "execution_count": 11,
   "id": "58846e3e-aefa-4258-847b-2b88440a1a99",
   "metadata": {},
   "outputs": [
    {
     "data": {
      "text/plain": [
       "76.0"
      ]
     },
     "execution_count": 11,
     "metadata": {},
     "output_type": "execute_result"
    }
   ],
   "source": [
    "sol.fun #esto es el costo "
   ]
  },
  {
   "cell_type": "markdown",
   "id": "c0413cdf-90b3-46f8-a8cd-af8b84549d90",
   "metadata": {},
   "source": [
    "## actividad"
   ]
  },
  {
   "cell_type": "markdown",
   "id": "5cc14f16-ea1a-4488-910d-10359699bdcc",
   "metadata": {},
   "source": [
    "Una carpintería local fabrica sillas, mesas, libreros y bases de cama. Hay dos empleados en esta carpintería: un empleado experimentado y un aprendiz. El aprendiz tarda aproximadamente 50% más tiempo que el carpintero experimentado en construir cualquier cosa, además de que tiene un desperdicio de alrededor de 20% de material. Los materiales y tiempos necesarios para construir algo se desglozan en la siguiente tabla:\n",
    "\n",
    "Producto\t      Tiempo [h]\tMaterial [unidades de madera]\n",
    "* Mesas\t            3\t           6\n",
    "* Sillas\t        1              2\n",
    "* Libreros\t        4\t           5\n",
    "* Bases de cama\t    3\t           5\n",
    "\n",
    "Las mesas se venden en 9000, las sillas en 3000, los libreros en 10000, y las bases de cama en 9000. Suponiendo una jornada de 40 horas a la semana y que tienen 100 unidades de madera, ¿qué les conviene construir durante una semana para maximizar su ganancia?\n",
    "\n",
    "¿Cuántas horas trabaja cada quién?\n",
    "¿Cuánto material se usa?\n",
    "¿Cuál se el ingreso total si se vende todo lo fabricado?"
   ]
  },
  {
   "cell_type": "markdown",
   "id": "67b7a45f-734c-4f43-9403-abb428f2dd2d",
   "metadata": {},
   "source": [
    " variables"
   ]
  },
  {
   "cell_type": "code",
   "execution_count": null,
   "id": "60b38b7f-bc0e-4293-a746-5c447badcac6",
   "metadata": {},
   "outputs": [],
   "source": [
    "x_1 = mesas empleado\n",
    "x_2 = sillas empleado\n",
    "x_3 = librero empleado\n",
    "x_4 = bases empleado\n",
    "\n",
    "y_1 = mesas aprendis\n",
    "y_2 = sillas aprendis\n",
    "y_3 = librero aprendis\n",
    "y_4 = bases aprendis"
   ]
  },
  {
   "cell_type": "markdown",
   "id": "a0be0482-63dc-4b76-be98-6d1aa870ac82",
   "metadata": {},
   "source": [
    "## funcion de costo"
   ]
  },
  {
   "cell_type": "markdown",
   "id": "2354d68e-b7d7-4b9b-9661-bfdceb00a321",
   "metadata": {},
   "source": [
    "$$ 9000x_1 + 3000x_2 + 10000x_3 + 9000x_4 + 9000y_1 + 3000y_2 + 10000y_3 + 9000y_4 $$"
   ]
  },
  {
   "cell_type": "markdown",
   "id": "e604c038-ee49-4c3a-a699-ddadec0e3845",
   "metadata": {},
   "source": [
    "## restricciones"
   ]
  },
  {
   "cell_type": "markdown",
   "id": "841a4f59-5951-4eb3-8601-348575391e7a",
   "metadata": {},
   "source": [
    "horas de empleado (horas aprendis tarda 50% mas que el asi que dividimos entre dos y lo sumamos al del empleado)\n",
    "\n",
    "$$ 3x_1 + 1x_2 + 4x_3 + 3x_4 + 4.5y_1 + 1.5y_2 + 6y_3 + 4.5y_4 \\leq 40 $$ \n",
    "\n",
    "\n",
    "\n",
    "\n",
    "material empleado(material el aprendis desperdicia 20% mas que el empleado asi que se lo sumamos al de empleado)\n",
    "$$ 6x_1 + 2x_2 + 5x_3 + 5x_4 + 7.2y_1 + 2.4y_2 + 6y_3 + 6y_4 \\leq 100 $$\n",
    "\n",
    "\n",
    "\n"
   ]
  },
  {
   "cell_type": "code",
   "execution_count": 18,
   "id": "e63bff70-5377-4ffc-9dcc-cf5690e87549",
   "metadata": {},
   "outputs": [
    {
     "data": {
      "text/plain": [
       "        message: Optimization terminated successfully. (HiGHS Status 7: Optimal)\n",
       "        success: True\n",
       "         status: 0\n",
       "            fun: 126000.0\n",
       "              x: [ 0.000e+00  0.000e+00  0.000e+00  0.000e+00  0.000e+00\n",
       "                   4.200e+01  0.000e+00  0.000e+00]\n",
       "            nit: -1\n",
       "          lower:  residual: [ 0.000e+00  0.000e+00  0.000e+00  0.000e+00\n",
       "                              0.000e+00  4.200e+01  0.000e+00  0.000e+00]\n",
       "                 marginals: [ 0.000e+00  0.000e+00  0.000e+00  0.000e+00\n",
       "                              0.000e+00  0.000e+00  0.000e+00  0.000e+00]\n",
       "          upper:  residual: [       inf        inf        inf        inf\n",
       "                                    inf        inf        inf        inf]\n",
       "                 marginals: [ 0.000e+00  0.000e+00  0.000e+00  0.000e+00\n",
       "                              0.000e+00  0.000e+00  0.000e+00  0.000e+00]\n",
       "          eqlin:  residual: []\n",
       "                 marginals: []\n",
       "        ineqlin:  residual: [ 2.300e+01  8.000e-01]\n",
       "                 marginals: [ 0.000e+00  0.000e+00]\n",
       " mip_node_count: 1\n",
       " mip_dual_bound: 126000.0\n",
       "        mip_gap: 0.0"
      ]
     },
     "execution_count": 18,
     "metadata": {},
     "output_type": "execute_result"
    }
   ],
   "source": [
    "import numpy as np\n",
    "\n",
    "c = np.array([9000, 3000, 10000, 9000, 9000, 3000, 10000, 9000])\n",
    "\n",
    "AuB = np.array([\n",
    "    [-3, -1, -4, -3, -4.5, -1.5, -6, -4.5],\n",
    "    [-6, -2, -5, -5, -7.2, -2.4, -6, -6],\n",
    "])\n",
    "\n",
    "BuP= np.array ([-40, -100])\n",
    "\n",
    "import scipy.optimize as opt\n",
    "\n",
    "sol = opt.linprog(c, AuB, BuP, integrality=1) #aqui podemos ver todas las respuestas \n",
    "\n",
    "sol"
   ]
  },
  {
   "cell_type": "code",
   "execution_count": 17,
   "id": "0dbe596a-a9d3-4cf7-93f0-2001aee95e28",
   "metadata": {},
   "outputs": [
    {
     "data": {
      "text/plain": [
       "125000.0"
      ]
     },
     "execution_count": 17,
     "metadata": {},
     "output_type": "execute_result"
    }
   ],
   "source": [
    "sol.fun"
   ]
  },
  {
   "cell_type": "markdown",
   "id": "26922f7d-670e-46bc-9830-9f8d89dd7621",
   "metadata": {},
   "source": [
    "¿Cuántas horas trabaja cada quién?\n",
    "r= \n",
    "\n",
    "¿Cuánto material se usa?\n",
    "r=\n",
    "\n",
    "¿Cuál se el ingreso total si se vende todo lo fabricado?\n",
    "r= 125000"
   ]
  }
 ],
 "metadata": {
  "kernelspec": {
   "display_name": "Python 3 (ipykernel)",
   "language": "python",
   "name": "python3"
  },
  "language_info": {
   "codemirror_mode": {
    "name": "ipython",
    "version": 3
   },
   "file_extension": ".py",
   "mimetype": "text/x-python",
   "name": "python",
   "nbconvert_exporter": "python",
   "pygments_lexer": "ipython3",
   "version": "3.12.4"
  }
 },
 "nbformat": 4,
 "nbformat_minor": 5
}
