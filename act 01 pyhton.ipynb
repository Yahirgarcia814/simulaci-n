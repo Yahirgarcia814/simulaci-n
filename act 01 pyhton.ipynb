{
 "cells": [
  {
   "cell_type": "markdown",
   "id": "290c6913-c8d7-4ddd-af68-fa2f468545f8",
   "metadata": {},
   "source": [
    "Steven Yahir Garcia Galvan\n",
    "\n",
    "18/08/2024\n",
    "\n",
    "act 01 python"
   ]
  },
  {
   "cell_type": "markdown",
   "id": "b7281c6f-1302-422c-a5f2-c7330d112a31",
   "metadata": {},
   "source": [
    "## factorial"
   ]
  },
  {
   "cell_type": "code",
   "execution_count": 4,
   "id": "b0f15aa1-412e-461a-b4a5-55a85f8fcfa2",
   "metadata": {},
   "outputs": [
    {
     "data": {
      "text/plain": [
       "5040"
      ]
     },
     "execution_count": 4,
     "metadata": {},
     "output_type": "execute_result"
    }
   ],
   "source": [
    "a = 7\n",
    "fac = 1\n",
    "if a != 0:\n",
    "    for i in range(1,a+1):\n",
    "        fac = fac *i \n",
    "fac"
   ]
  },
  {
   "cell_type": "markdown",
   "id": "841c4be8-be4d-45d0-9882-d37f60b96715",
   "metadata": {},
   "source": [
    "## numero primo"
   ]
  },
  {
   "cell_type": "code",
   "execution_count": 9,
   "id": "df4c2a04-0b41-4720-bfec-3ca2f755acf7",
   "metadata": {},
   "outputs": [
    {
     "name": "stdout",
     "output_type": "stream",
     "text": [
      " es primo.\n"
     ]
    }
   ],
   "source": [
    "a = 11\n",
    "if a <= 1:\n",
    "    print(\"No es numero primo\")\n",
    "else: \n",
    "    primo = True\n",
    "    for x in range(2, a):\n",
    "        if a % x == 0:\n",
    "            primo = False\n",
    "            break\n",
    "    if primo:\n",
    "        print(\" es primo.\")\n",
    "    else:\n",
    "        print(\" no es primo.\")"
   ]
  },
  {
   "cell_type": "code",
   "execution_count": null,
   "id": "605f6152-c602-4c23-91d9-9128333a9583",
   "metadata": {},
   "outputs": [],
   "source": []
  }
 ],
 "metadata": {
  "kernelspec": {
   "display_name": "Python 3 (ipykernel)",
   "language": "python",
   "name": "python3"
  },
  "language_info": {
   "codemirror_mode": {
    "name": "ipython",
    "version": 3
   },
   "file_extension": ".py",
   "mimetype": "text/x-python",
   "name": "python",
   "nbconvert_exporter": "python",
   "pygments_lexer": "ipython3",
   "version": "3.12.4"
  }
 },
 "nbformat": 4,
 "nbformat_minor": 5
}
