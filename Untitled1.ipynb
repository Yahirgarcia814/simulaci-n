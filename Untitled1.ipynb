{
 "cells": [
  {
   "cell_type": "markdown",
   "id": "ecd51362-6899-4abf-b4cd-3f1b0e817e49",
   "metadata": {},
   "source": [
    "steven yahir garcia galvan \n",
    "\n",
    "14/08/2024 \n",
    "\n",
    "titulo:markdown introduccion"
   ]
  },
  {
   "cell_type": "markdown",
   "id": "26dd5e49-48a9-4596-86e5-c4e2f6e991e3",
   "metadata": {},
   "source": [
    "# MAQUINARIA DE CONSTRUCCIÓN"
   ]
  },
  {
   "cell_type": "markdown",
   "id": "fdcf9a92-2ae5-452f-b41f-1e33d858b42d",
   "metadata": {},
   "source": [
    "Las maquinarias de construccion son equpos de tranajo que tienen la funcion de dismunuir los tipos y las cargas de trabajo durante una construccion, cada maquina se creo de una manera muy especifica para poder realizar un trabjao determinado"
   ]
  },
  {
   "cell_type": "markdown",
   "id": "6c422c85-0648-4824-8454-5b58c95ff73b",
   "metadata": {
    "jp-MarkdownHeadingCollapsed": true
   },
   "source": [
    "![](https://malagarepublicana.es/wp-content/uploads/2020/10/cat-1.jpg)"
   ]
  },
  {
   "cell_type": "markdown",
   "id": "382ae867-1785-4540-a7ce-876574d2fa3f",
   "metadata": {},
   "source": [
    "## Maquinaria ligera"
   ]
  },
  {
   "cell_type": "markdown",
   "id": "d324671e-e0c3-4247-9f25-98ffde3fbf16",
   "metadata": {},
   "source": [
    "La **maquinaria ligera** es el rubro en donde se clasifican todas aquellas herramientas que nos permiten mejorar la calidad de una construcción, y que además son muy fáciles de manejar gracias a su ligero y práctico diseño.\n",
    "\n",
    "las maquinarias ligeras juegan un papel fundamental. *La importancia de esta maquinaria radica en sus aplicaciones*. Se utilizan tanto en la pequeña como en la gran industria y también para el desarrollo de la construcción y el mantenimiento de grandes infraestructuras, como por ejemplo:\n",
    "\n",
    "1. compresor de aire\n",
    "2. martillos hidraulicos\n",
    "3. revolvedoras\n",
    "4. flexometro\n",
    "5. palas\n",
    "   * piquete\n",
    "   * cuadradas\n",
    "   * de puño\n",
    "6. esmeril\n",
    "7. taldros\n"
   ]
  },
  {
   "cell_type": "markdown",
   "id": "d71c0f6c-a861-4be9-b55a-bf1ea36237dd",
   "metadata": {},
   "source": [
    "## Maquinaria pesada"
   ]
  },
  {
   "cell_type": "markdown",
   "id": "0334771f-c9d9-446c-bfa3-5de5589b7be3",
   "metadata": {},
   "source": [
    "La **maquinaria pesada** se refiere a equipos especializados diseñados para *realizar tareas intensivas en energía y capaces de soportar cargas sustanciales*, estos equipos son fundamentales en la construcción de carreteras, edificios, represas, y cualquier proyecto que requiera la manipulación de grandes cantidades de materiales.\r\n",
    "\r\n",
    "Las características de la maquinaria pesada incluyen su tamaño considerable, potencia significativa y estructuras robustas, estos equipos son construidos para resistir las condiciones adversas de los sitios de construcción y proporcionar la fuerza necesaria para llevar a cabo diversas tareas, desde excavar hasta levantar estructuras masivas, por ejemplo:\r\n",
    "\n",
    "\n",
    "1. retroexcavadora\n",
    "   * de martillo\n",
    "   * de bote\n",
    "2. motoconformadora\n",
    "3. camiones\n",
    "   * 7 metros cubicos\n",
    "   * 14 metros cubicos\n",
    "4. tractor\n",
    "5. excavadora\n",
    "6. vibrocompactadoressivas."
   ]
  },
  {
   "cell_type": "markdown",
   "id": "edb63e6a-dc7b-4ead-b36b-4c6560bdc924",
   "metadata": {},
   "source": [
    "## ecuación\n"
   ]
  },
  {
   "cell_type": "markdown",
   "id": "81416716-2e83-416d-b880-0bc1c4ec7d23",
   "metadata": {},
   "source": [
    "$$ x^{2} + 6x + \\frac{6}{8}=123 $$"
   ]
  },
  {
   "cell_type": "code",
   "execution_count": null,
   "id": "730c5438-de9b-4a12-a717-0d8f6f98ed98",
   "metadata": {},
   "outputs": [],
   "source": []
  }
 ],
 "metadata": {
  "kernelspec": {
   "display_name": "Python 3 (ipykernel)",
   "language": "python",
   "name": "python3"
  },
  "language_info": {
   "codemirror_mode": {
    "name": "ipython",
    "version": 3
   },
   "file_extension": ".py",
   "mimetype": "text/x-python",
   "name": "python",
   "nbconvert_exporter": "python",
   "pygments_lexer": "ipython3",
   "version": "3.12.4"
  }
 },
 "nbformat": 4,
 "nbformat_minor": 5
}
