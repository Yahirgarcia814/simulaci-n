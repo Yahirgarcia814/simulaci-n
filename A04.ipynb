{
 "cells": [
  {
   "cell_type": "markdown",
   "id": "b3a3c489-b952-4612-88db-344ddead52e8",
   "metadata": {},
   "source": [
    "##  Utiliza sympy y encuentra los valores de las incógnitas que hagan que los siguientes sistemas de ecuaciones sean verdaderos:"
   ]
  },
  {
   "cell_type": "markdown",
   "id": "78cc2b5a-00cd-46a7-8d00-0d58032dbbe3",
   "metadata": {},
   "source": [
    "Steven Yahir Garcia Galvan\n",
    "\n",
    "29/08/2024\n"
   ]
  },
  {
   "cell_type": "markdown",
   "id": "418326a9-1ff0-4f4b-8f57-babfb4d90639",
   "metadata": {},
   "source": [
    "## ejercicio 1"
   ]
  },
  {
   "cell_type": "code",
   "execution_count": 12,
   "id": "a9024a4f-7459-4522-b345-ecc4f8805b45",
   "metadata": {},
   "outputs": [
    {
     "data": {
      "text/plain": [
       "(6, 4)"
      ]
     },
     "execution_count": 12,
     "metadata": {},
     "output_type": "execute_result"
    }
   ],
   "source": [
    "sp.var(\"y\")\n",
    "sp.var(\"x\")\n",
    "\n",
    "eq1 = x+y-10\n",
    "eq2 = x-y-2\n",
    "\n",
    "x_eq1 = sp.solve(eq1,x)[0]\n",
    "x_eq1\n",
    "\n",
    "\n",
    "y_eq2 = eq2.subs(x, x_eq1)\n",
    "\n",
    "y_sol = sp.solve(y_eq2, y)[0]\n",
    "\n",
    "\n",
    "x_sol = x_eq1.subs(y, y_sol)\n",
    "\n",
    "x_sol, y_sol"
   ]
  },
  {
   "cell_type": "markdown",
   "id": "56a056fc-d6d1-42e7-a59b-631c6721e649",
   "metadata": {},
   "source": [
    "## ejercicio 2"
   ]
  },
  {
   "cell_type": "code",
   "execution_count": 22,
   "id": "d0a47e71-3b4c-42c5-85b1-307f486dc59b",
   "metadata": {},
   "outputs": [
    {
     "data": {
      "text/plain": [
       "(1.00000000000000, 1.00000000000000)"
      ]
     },
     "execution_count": 22,
     "metadata": {},
     "output_type": "execute_result"
    }
   ],
   "source": [
    "sp.var(\"y\")\n",
    "sp.var(\"x\")\n",
    "\n",
    "eq1 = (3*x-2*y)/3 + 4*y -(13/3)\n",
    "eq2 = ((2*(-2*y + x))/3) - ((3*x)/2) + (13/6)\n",
    "\n",
    "x_eq1 = sp.solve(eq1,x)[0]\n",
    "x_eq1\n",
    "\n",
    "\n",
    "y_eq2 = eq2.subs(x, x_eq1)\n",
    "\n",
    "y_sol = sp.solve(y_eq2, y)[0]\n",
    "\n",
    "\n",
    "x_sol = x_eq1.subs(y, y_sol)\n",
    "\n",
    "x_sol, y_sol"
   ]
  },
  {
   "cell_type": "markdown",
   "id": "d5c23590-029f-491e-97be-b90058264a8d",
   "metadata": {},
   "source": [
    "## ejercicio 3"
   ]
  },
  {
   "cell_type": "code",
   "execution_count": 32,
   "id": "dd7249bb-7c79-4bc4-872b-8e74ed7f1ae0",
   "metadata": {},
   "outputs": [
    {
     "ename": "SympifyError",
     "evalue": "SympifyError: [-sqrt(11) - 2]",
     "output_type": "error",
     "traceback": [
      "\u001b[1;31m---------------------------------------------------------------------------\u001b[0m",
      "\u001b[1;31mSympifyError\u001b[0m                              Traceback (most recent call last)",
      "Cell \u001b[1;32mIn[32], line 16\u001b[0m\n\u001b[0;32m     11\u001b[0m y_eq2 \u001b[38;5;241m=\u001b[39m eq2\u001b[38;5;241m.\u001b[39msubs(x, x_eq1)\n\u001b[0;32m     13\u001b[0m y_sol \u001b[38;5;241m=\u001b[39m sp\u001b[38;5;241m.\u001b[39msolve(y_eq2, y)\n\u001b[1;32m---> 16\u001b[0m x_sol \u001b[38;5;241m=\u001b[39m x_eq1\u001b[38;5;241m.\u001b[39msubs(y, y_sol)\n\u001b[0;32m     18\u001b[0m x_sol, y_sol\n",
      "File \u001b[1;32m~\\anaconda3\\Lib\\site-packages\\sympy\\core\\basic.py:991\u001b[0m, in \u001b[0;36mBasic.subs\u001b[1;34m(self, *args, **kwargs)\u001b[0m\n\u001b[0;32m    988\u001b[0m     \u001b[38;5;28;01melse\u001b[39;00m:\n\u001b[0;32m    989\u001b[0m         \u001b[38;5;28;01mreturn\u001b[39;00m sympify(new, strict\u001b[38;5;241m=\u001b[39m\u001b[38;5;28;01mTrue\u001b[39;00m)\n\u001b[1;32m--> 991\u001b[0m sequence \u001b[38;5;241m=\u001b[39m [(sympify_old(s1), sympify_new(s2)) \u001b[38;5;28;01mfor\u001b[39;00m s1, s2 \u001b[38;5;129;01min\u001b[39;00m sequence]\n\u001b[0;32m    993\u001b[0m \u001b[38;5;66;03m# skip if there is no change\u001b[39;00m\n\u001b[0;32m    994\u001b[0m sequence \u001b[38;5;241m=\u001b[39m [(s1, s2) \u001b[38;5;28;01mfor\u001b[39;00m s1, s2 \u001b[38;5;129;01min\u001b[39;00m sequence \u001b[38;5;28;01mif\u001b[39;00m \u001b[38;5;129;01mnot\u001b[39;00m _aresame(s1, s2)]\n",
      "File \u001b[1;32m~\\anaconda3\\Lib\\site-packages\\sympy\\core\\basic.py:989\u001b[0m, in \u001b[0;36mBasic.subs.<locals>.sympify_new\u001b[1;34m(new)\u001b[0m\n\u001b[0;32m    987\u001b[0m     \u001b[38;5;28;01mreturn\u001b[39;00m sympify(new, strict\u001b[38;5;241m=\u001b[39m\u001b[38;5;28;01mFalse\u001b[39;00m)\n\u001b[0;32m    988\u001b[0m \u001b[38;5;28;01melse\u001b[39;00m:\n\u001b[1;32m--> 989\u001b[0m     \u001b[38;5;28;01mreturn\u001b[39;00m sympify(new, strict\u001b[38;5;241m=\u001b[39m\u001b[38;5;28;01mTrue\u001b[39;00m)\n",
      "File \u001b[1;32m~\\anaconda3\\Lib\\site-packages\\sympy\\core\\sympify.py:449\u001b[0m, in \u001b[0;36msympify\u001b[1;34m(a, locals, convert_xor, strict, rational, evaluate)\u001b[0m\n\u001b[0;32m    446\u001b[0m                 \u001b[38;5;28;01mcontinue\u001b[39;00m\n\u001b[0;32m    448\u001b[0m \u001b[38;5;28;01mif\u001b[39;00m strict:\n\u001b[1;32m--> 449\u001b[0m     \u001b[38;5;28;01mraise\u001b[39;00m SympifyError(a)\n\u001b[0;32m    451\u001b[0m \u001b[38;5;28;01mif\u001b[39;00m iterable(a):\n\u001b[0;32m    452\u001b[0m     \u001b[38;5;28;01mtry\u001b[39;00m:\n",
      "\u001b[1;31mSympifyError\u001b[0m: SympifyError: [-sqrt(11) - 2]"
     ]
    }
   ],
   "source": [
    "sp.var(\"y\")\n",
    "sp.var(\"x\")\n",
    "\n",
    "eq1 = x**2-2*y-16\n",
    "eq2 = x-y-3\n",
    "\n",
    "x_eq1 = sp.solve(eq1,x)[0]\n",
    "x_eq1\n",
    "\n",
    "\n",
    "y_eq2 = eq2.subs(x, x_eq1)\n",
    "\n",
    "y_sol = sp.solve(y_eq2, y)\n",
    "\n",
    "\n",
    "x_sol = x_eq1.subs(y, y_sol)\n",
    "\n",
    "x_sol, y_sol"
   ]
  },
  {
   "cell_type": "code",
   "execution_count": 31,
   "id": "00cdec74-e752-4487-8779-885e816d7c9f",
   "metadata": {},
   "outputs": [
    {
     "ename": "SympifyError",
     "evalue": "SympifyError: [-sqrt(11) - 2]",
     "output_type": "error",
     "traceback": [
      "\u001b[1;31m---------------------------------------------------------------------------\u001b[0m",
      "\u001b[1;31mSympifyError\u001b[0m                              Traceback (most recent call last)",
      "Cell \u001b[1;32mIn[31], line 1\u001b[0m\n\u001b[1;32m----> 1\u001b[0m x_sol \u001b[38;5;241m=\u001b[39m x_eq1\u001b[38;5;241m.\u001b[39msubs(y, y_sol)\n\u001b[0;32m      3\u001b[0m x_sol, y_sol\n",
      "File \u001b[1;32m~\\anaconda3\\Lib\\site-packages\\sympy\\core\\basic.py:991\u001b[0m, in \u001b[0;36mBasic.subs\u001b[1;34m(self, *args, **kwargs)\u001b[0m\n\u001b[0;32m    988\u001b[0m     \u001b[38;5;28;01melse\u001b[39;00m:\n\u001b[0;32m    989\u001b[0m         \u001b[38;5;28;01mreturn\u001b[39;00m sympify(new, strict\u001b[38;5;241m=\u001b[39m\u001b[38;5;28;01mTrue\u001b[39;00m)\n\u001b[1;32m--> 991\u001b[0m sequence \u001b[38;5;241m=\u001b[39m [(sympify_old(s1), sympify_new(s2)) \u001b[38;5;28;01mfor\u001b[39;00m s1, s2 \u001b[38;5;129;01min\u001b[39;00m sequence]\n\u001b[0;32m    993\u001b[0m \u001b[38;5;66;03m# skip if there is no change\u001b[39;00m\n\u001b[0;32m    994\u001b[0m sequence \u001b[38;5;241m=\u001b[39m [(s1, s2) \u001b[38;5;28;01mfor\u001b[39;00m s1, s2 \u001b[38;5;129;01min\u001b[39;00m sequence \u001b[38;5;28;01mif\u001b[39;00m \u001b[38;5;129;01mnot\u001b[39;00m _aresame(s1, s2)]\n",
      "File \u001b[1;32m~\\anaconda3\\Lib\\site-packages\\sympy\\core\\basic.py:989\u001b[0m, in \u001b[0;36mBasic.subs.<locals>.sympify_new\u001b[1;34m(new)\u001b[0m\n\u001b[0;32m    987\u001b[0m     \u001b[38;5;28;01mreturn\u001b[39;00m sympify(new, strict\u001b[38;5;241m=\u001b[39m\u001b[38;5;28;01mFalse\u001b[39;00m)\n\u001b[0;32m    988\u001b[0m \u001b[38;5;28;01melse\u001b[39;00m:\n\u001b[1;32m--> 989\u001b[0m     \u001b[38;5;28;01mreturn\u001b[39;00m sympify(new, strict\u001b[38;5;241m=\u001b[39m\u001b[38;5;28;01mTrue\u001b[39;00m)\n",
      "File \u001b[1;32m~\\anaconda3\\Lib\\site-packages\\sympy\\core\\sympify.py:449\u001b[0m, in \u001b[0;36msympify\u001b[1;34m(a, locals, convert_xor, strict, rational, evaluate)\u001b[0m\n\u001b[0;32m    446\u001b[0m                 \u001b[38;5;28;01mcontinue\u001b[39;00m\n\u001b[0;32m    448\u001b[0m \u001b[38;5;28;01mif\u001b[39;00m strict:\n\u001b[1;32m--> 449\u001b[0m     \u001b[38;5;28;01mraise\u001b[39;00m SympifyError(a)\n\u001b[0;32m    451\u001b[0m \u001b[38;5;28;01mif\u001b[39;00m iterable(a):\n\u001b[0;32m    452\u001b[0m     \u001b[38;5;28;01mtry\u001b[39;00m:\n",
      "\u001b[1;31mSympifyError\u001b[0m: SympifyError: [-sqrt(11) - 2]"
     ]
    }
   ],
   "source": []
  },
  {
   "cell_type": "code",
   "execution_count": null,
   "id": "3243e4a6-577c-457d-bd31-bd5a9ca7591c",
   "metadata": {},
   "outputs": [],
   "source": []
  },
  {
   "cell_type": "code",
   "execution_count": null,
   "id": "6746be4d-c932-4b93-a3f3-b118f5c6c6e5",
   "metadata": {},
   "outputs": [],
   "source": []
  },
  {
   "cell_type": "code",
   "execution_count": null,
   "id": "4c1af846-4546-4aa1-86d8-03f51a0e19a9",
   "metadata": {},
   "outputs": [],
   "source": []
  },
  {
   "cell_type": "code",
   "execution_count": null,
   "id": "b7d172da-1d05-4045-b496-872c0cbfb8e7",
   "metadata": {},
   "outputs": [],
   "source": []
  },
  {
   "cell_type": "code",
   "execution_count": null,
   "id": "63926e84-0177-4b2b-a20a-ca681f6198d2",
   "metadata": {},
   "outputs": [],
   "source": []
  },
  {
   "cell_type": "code",
   "execution_count": null,
   "id": "29cae0e9-b8a6-48b4-93b9-8cf65bdf2dcb",
   "metadata": {},
   "outputs": [],
   "source": []
  },
  {
   "cell_type": "code",
   "execution_count": null,
   "id": "f0561846-89fd-4ae6-9925-0dabef432c34",
   "metadata": {},
   "outputs": [],
   "source": []
  }
 ],
 "metadata": {
  "kernelspec": {
   "display_name": "Python 3 (ipykernel)",
   "language": "python",
   "name": "python3"
  },
  "language_info": {
   "codemirror_mode": {
    "name": "ipython",
    "version": 3
   },
   "file_extension": ".py",
   "mimetype": "text/x-python",
   "name": "python",
   "nbconvert_exporter": "python",
   "pygments_lexer": "ipython3",
   "version": "3.12.4"
  }
 },
 "nbformat": 4,
 "nbformat_minor": 5
}
